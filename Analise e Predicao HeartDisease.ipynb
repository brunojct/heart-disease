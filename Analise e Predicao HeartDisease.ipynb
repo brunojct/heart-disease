{
 "cells": [
  {
   "cell_type": "markdown",
   "id": "dda5d802",
   "metadata": {},
   "source": [
    "# Significado das colunas do dataset"
   ]
  },
  {
   "cell_type": "markdown",
   "id": "3041ce55",
   "metadata": {},
   "source": [
    "Age: age of the patient (years)\n",
    "\n",
    "Sex: sex of the patient (M: Male, F: Female)\n",
    "\n",
    "ChestPainType: chest pain type (TA: Typical Angina, ATA: Atypical Angina, NAP: Non-Anginal Pain, ASY: Asymptomatic)\n",
    "\n",
    "RestingBP: resting blood pressure (mm Hg)\n",
    "\n",
    "Cholesterol: serum cholesterol (mm/dl)\n",
    "\n",
    "FastingBS: fasting blood sugar (1: if FastingBS > 120 mg/dl, 0: otherwise)\n",
    "\n",
    "RestingECG: resting electrocardiogram results (Normal: Normal, ST: having ST-T wave abnormality (T wave inversions and/or ST elevation or depression of > 0.05 mV), LVH: showing probable or definite left ventricular hypertrophy by Estes' criteria)\n",
    "\n",
    "MaxHR: maximum heart rate achieved (Numeric value between 60 and 202)\n",
    "\n",
    "ExerciseAngina: exercise-induced angina (Y: Yes, N: No)\n",
    "\n",
    "Oldpeak: oldpeak = ST (Numeric value measured in depression)\n",
    "\n",
    "ST_Slope: the slope of the peak exercise ST segment (Up: upsloping, Flat: flat, Down: downsloping)\n",
    "\n",
    "HeartDisease: output class (1: heart disease, 0: Normal])"
   ]
  },
  {
   "cell_type": "markdown",
   "id": "52aab15f",
   "metadata": {},
   "source": [
    "# Importar bibliotecas"
   ]
  },
  {
   "cell_type": "code",
   "execution_count": 936,
   "id": "0df5e136",
   "metadata": {},
   "outputs": [],
   "source": [
    "import pandas as pd\n",
    "import matplotlib.pyplot as plt\n",
    "import seaborn as sns\n",
    "from sklearn.model_selection import train_test_split\n",
    "from sklearn.ensemble import ExtraTreesClassifier, RandomForestClassifier\n",
    "from sklearn.linear_model import LogisticRegression\n",
    "from sklearn.svm import LinearSVC\n",
    "from sklearn.metrics import confusion_matrix, accuracy_score, recall_score\n",
    "from imblearn.over_sampling import RandomOverSampler, SMOTE, ADASYN\n",
    "from imblearn.under_sampling import NearMiss, RandomUnderSampler, ClusterCentroids\n",
    "from sklearn.model_selection import GridSearchCV\n",
    "import warnings\n",
    "warnings.filterwarnings('ignore')"
   ]
  },
  {
   "cell_type": "markdown",
   "id": "5ce9e937",
   "metadata": {},
   "source": [
    "# Importar a base e visualizando as primeiras informações"
   ]
  },
  {
   "cell_type": "code",
   "execution_count": 937,
   "id": "7057ce41",
   "metadata": {},
   "outputs": [],
   "source": [
    "#importando\n",
    "base_heart = pd.read_csv('heart.csv')"
   ]
  },
  {
   "cell_type": "code",
   "execution_count": 938,
   "id": "89ed7617",
   "metadata": {},
   "outputs": [
    {
     "data": {
      "text/html": [
       "<div>\n",
       "<style scoped>\n",
       "    .dataframe tbody tr th:only-of-type {\n",
       "        vertical-align: middle;\n",
       "    }\n",
       "\n",
       "    .dataframe tbody tr th {\n",
       "        vertical-align: top;\n",
       "    }\n",
       "\n",
       "    .dataframe thead th {\n",
       "        text-align: right;\n",
       "    }\n",
       "</style>\n",
       "<table border=\"1\" class=\"dataframe\">\n",
       "  <thead>\n",
       "    <tr style=\"text-align: right;\">\n",
       "      <th></th>\n",
       "      <th>Age</th>\n",
       "      <th>Sex</th>\n",
       "      <th>ChestPainType</th>\n",
       "      <th>RestingBP</th>\n",
       "      <th>Cholesterol</th>\n",
       "      <th>FastingBS</th>\n",
       "      <th>RestingECG</th>\n",
       "      <th>MaxHR</th>\n",
       "      <th>ExerciseAngina</th>\n",
       "      <th>Oldpeak</th>\n",
       "      <th>ST_Slope</th>\n",
       "      <th>HeartDisease</th>\n",
       "    </tr>\n",
       "  </thead>\n",
       "  <tbody>\n",
       "    <tr>\n",
       "      <th>0</th>\n",
       "      <td>40</td>\n",
       "      <td>M</td>\n",
       "      <td>ATA</td>\n",
       "      <td>140</td>\n",
       "      <td>289</td>\n",
       "      <td>0</td>\n",
       "      <td>Normal</td>\n",
       "      <td>172</td>\n",
       "      <td>N</td>\n",
       "      <td>0.0</td>\n",
       "      <td>Up</td>\n",
       "      <td>0</td>\n",
       "    </tr>\n",
       "    <tr>\n",
       "      <th>1</th>\n",
       "      <td>49</td>\n",
       "      <td>F</td>\n",
       "      <td>NAP</td>\n",
       "      <td>160</td>\n",
       "      <td>180</td>\n",
       "      <td>0</td>\n",
       "      <td>Normal</td>\n",
       "      <td>156</td>\n",
       "      <td>N</td>\n",
       "      <td>1.0</td>\n",
       "      <td>Flat</td>\n",
       "      <td>1</td>\n",
       "    </tr>\n",
       "    <tr>\n",
       "      <th>2</th>\n",
       "      <td>37</td>\n",
       "      <td>M</td>\n",
       "      <td>ATA</td>\n",
       "      <td>130</td>\n",
       "      <td>283</td>\n",
       "      <td>0</td>\n",
       "      <td>ST</td>\n",
       "      <td>98</td>\n",
       "      <td>N</td>\n",
       "      <td>0.0</td>\n",
       "      <td>Up</td>\n",
       "      <td>0</td>\n",
       "    </tr>\n",
       "    <tr>\n",
       "      <th>3</th>\n",
       "      <td>48</td>\n",
       "      <td>F</td>\n",
       "      <td>ASY</td>\n",
       "      <td>138</td>\n",
       "      <td>214</td>\n",
       "      <td>0</td>\n",
       "      <td>Normal</td>\n",
       "      <td>108</td>\n",
       "      <td>Y</td>\n",
       "      <td>1.5</td>\n",
       "      <td>Flat</td>\n",
       "      <td>1</td>\n",
       "    </tr>\n",
       "    <tr>\n",
       "      <th>4</th>\n",
       "      <td>54</td>\n",
       "      <td>M</td>\n",
       "      <td>NAP</td>\n",
       "      <td>150</td>\n",
       "      <td>195</td>\n",
       "      <td>0</td>\n",
       "      <td>Normal</td>\n",
       "      <td>122</td>\n",
       "      <td>N</td>\n",
       "      <td>0.0</td>\n",
       "      <td>Up</td>\n",
       "      <td>0</td>\n",
       "    </tr>\n",
       "  </tbody>\n",
       "</table>\n",
       "</div>"
      ],
      "text/plain": [
       "   Age Sex ChestPainType  RestingBP  Cholesterol  FastingBS RestingECG  MaxHR  \\\n",
       "0   40   M           ATA        140          289          0     Normal    172   \n",
       "1   49   F           NAP        160          180          0     Normal    156   \n",
       "2   37   M           ATA        130          283          0         ST     98   \n",
       "3   48   F           ASY        138          214          0     Normal    108   \n",
       "4   54   M           NAP        150          195          0     Normal    122   \n",
       "\n",
       "  ExerciseAngina  Oldpeak ST_Slope  HeartDisease  \n",
       "0              N      0.0       Up             0  \n",
       "1              N      1.0     Flat             1  \n",
       "2              N      0.0       Up             0  \n",
       "3              Y      1.5     Flat             1  \n",
       "4              N      0.0       Up             0  "
      ]
     },
     "execution_count": 938,
     "metadata": {},
     "output_type": "execute_result"
    }
   ],
   "source": [
    "#vendo as primeiras linhas \n",
    "base_heart.head()"
   ]
  },
  {
   "cell_type": "code",
   "execution_count": 939,
   "id": "c4d7af69",
   "metadata": {},
   "outputs": [
    {
     "name": "stdout",
     "output_type": "stream",
     "text": [
      "<class 'pandas.core.frame.DataFrame'>\n",
      "RangeIndex: 918 entries, 0 to 917\n",
      "Data columns (total 12 columns):\n",
      " #   Column          Non-Null Count  Dtype  \n",
      "---  ------          --------------  -----  \n",
      " 0   Age             918 non-null    int64  \n",
      " 1   Sex             918 non-null    object \n",
      " 2   ChestPainType   918 non-null    object \n",
      " 3   RestingBP       918 non-null    int64  \n",
      " 4   Cholesterol     918 non-null    int64  \n",
      " 5   FastingBS       918 non-null    int64  \n",
      " 6   RestingECG      918 non-null    object \n",
      " 7   MaxHR           918 non-null    int64  \n",
      " 8   ExerciseAngina  918 non-null    object \n",
      " 9   Oldpeak         918 non-null    float64\n",
      " 10  ST_Slope        918 non-null    object \n",
      " 11  HeartDisease    918 non-null    int64  \n",
      "dtypes: float64(1), int64(6), object(5)\n",
      "memory usage: 86.2+ KB\n"
     ]
    }
   ],
   "source": [
    "#visualizando as informações das colunas\n",
    "base_heart.info()"
   ]
  },
  {
   "cell_type": "code",
   "execution_count": 940,
   "id": "76ae928f",
   "metadata": {
    "scrolled": true
   },
   "outputs": [
    {
     "data": {
      "text/html": [
       "<div>\n",
       "<style scoped>\n",
       "    .dataframe tbody tr th:only-of-type {\n",
       "        vertical-align: middle;\n",
       "    }\n",
       "\n",
       "    .dataframe tbody tr th {\n",
       "        vertical-align: top;\n",
       "    }\n",
       "\n",
       "    .dataframe thead th {\n",
       "        text-align: right;\n",
       "    }\n",
       "</style>\n",
       "<table border=\"1\" class=\"dataframe\">\n",
       "  <thead>\n",
       "    <tr style=\"text-align: right;\">\n",
       "      <th></th>\n",
       "      <th>Age</th>\n",
       "      <th>RestingBP</th>\n",
       "      <th>Cholesterol</th>\n",
       "      <th>FastingBS</th>\n",
       "      <th>MaxHR</th>\n",
       "      <th>Oldpeak</th>\n",
       "      <th>HeartDisease</th>\n",
       "    </tr>\n",
       "  </thead>\n",
       "  <tbody>\n",
       "    <tr>\n",
       "      <th>count</th>\n",
       "      <td>918.000000</td>\n",
       "      <td>918.000000</td>\n",
       "      <td>918.000000</td>\n",
       "      <td>918.000000</td>\n",
       "      <td>918.000000</td>\n",
       "      <td>918.000000</td>\n",
       "      <td>918.000000</td>\n",
       "    </tr>\n",
       "    <tr>\n",
       "      <th>mean</th>\n",
       "      <td>53.510893</td>\n",
       "      <td>132.396514</td>\n",
       "      <td>198.799564</td>\n",
       "      <td>0.233115</td>\n",
       "      <td>136.809368</td>\n",
       "      <td>0.887364</td>\n",
       "      <td>0.553377</td>\n",
       "    </tr>\n",
       "    <tr>\n",
       "      <th>std</th>\n",
       "      <td>9.432617</td>\n",
       "      <td>18.514154</td>\n",
       "      <td>109.384145</td>\n",
       "      <td>0.423046</td>\n",
       "      <td>25.460334</td>\n",
       "      <td>1.066570</td>\n",
       "      <td>0.497414</td>\n",
       "    </tr>\n",
       "    <tr>\n",
       "      <th>min</th>\n",
       "      <td>28.000000</td>\n",
       "      <td>0.000000</td>\n",
       "      <td>0.000000</td>\n",
       "      <td>0.000000</td>\n",
       "      <td>60.000000</td>\n",
       "      <td>-2.600000</td>\n",
       "      <td>0.000000</td>\n",
       "    </tr>\n",
       "    <tr>\n",
       "      <th>25%</th>\n",
       "      <td>47.000000</td>\n",
       "      <td>120.000000</td>\n",
       "      <td>173.250000</td>\n",
       "      <td>0.000000</td>\n",
       "      <td>120.000000</td>\n",
       "      <td>0.000000</td>\n",
       "      <td>0.000000</td>\n",
       "    </tr>\n",
       "    <tr>\n",
       "      <th>50%</th>\n",
       "      <td>54.000000</td>\n",
       "      <td>130.000000</td>\n",
       "      <td>223.000000</td>\n",
       "      <td>0.000000</td>\n",
       "      <td>138.000000</td>\n",
       "      <td>0.600000</td>\n",
       "      <td>1.000000</td>\n",
       "    </tr>\n",
       "    <tr>\n",
       "      <th>75%</th>\n",
       "      <td>60.000000</td>\n",
       "      <td>140.000000</td>\n",
       "      <td>267.000000</td>\n",
       "      <td>0.000000</td>\n",
       "      <td>156.000000</td>\n",
       "      <td>1.500000</td>\n",
       "      <td>1.000000</td>\n",
       "    </tr>\n",
       "    <tr>\n",
       "      <th>max</th>\n",
       "      <td>77.000000</td>\n",
       "      <td>200.000000</td>\n",
       "      <td>603.000000</td>\n",
       "      <td>1.000000</td>\n",
       "      <td>202.000000</td>\n",
       "      <td>6.200000</td>\n",
       "      <td>1.000000</td>\n",
       "    </tr>\n",
       "  </tbody>\n",
       "</table>\n",
       "</div>"
      ],
      "text/plain": [
       "              Age   RestingBP  Cholesterol   FastingBS       MaxHR  \\\n",
       "count  918.000000  918.000000   918.000000  918.000000  918.000000   \n",
       "mean    53.510893  132.396514   198.799564    0.233115  136.809368   \n",
       "std      9.432617   18.514154   109.384145    0.423046   25.460334   \n",
       "min     28.000000    0.000000     0.000000    0.000000   60.000000   \n",
       "25%     47.000000  120.000000   173.250000    0.000000  120.000000   \n",
       "50%     54.000000  130.000000   223.000000    0.000000  138.000000   \n",
       "75%     60.000000  140.000000   267.000000    0.000000  156.000000   \n",
       "max     77.000000  200.000000   603.000000    1.000000  202.000000   \n",
       "\n",
       "          Oldpeak  HeartDisease  \n",
       "count  918.000000    918.000000  \n",
       "mean     0.887364      0.553377  \n",
       "std      1.066570      0.497414  \n",
       "min     -2.600000      0.000000  \n",
       "25%      0.000000      0.000000  \n",
       "50%      0.600000      1.000000  \n",
       "75%      1.500000      1.000000  \n",
       "max      6.200000      1.000000  "
      ]
     },
     "execution_count": 940,
     "metadata": {},
     "output_type": "execute_result"
    }
   ],
   "source": [
    "#visualizando algumas informações estatísticas\n",
    "descricao = base_heart.describe()\n",
    "descricao"
   ]
  },
  {
   "cell_type": "code",
   "execution_count": 941,
   "id": "92c0e8a5",
   "metadata": {},
   "outputs": [
    {
     "name": "stdout",
     "output_type": "stream",
     "text": [
      "0 linhas duplicadas\n"
     ]
    }
   ],
   "source": [
    "#verificando a existência de linhas duplicadas\n",
    "linhas_duplicadas = base_heart.duplicated().sum()\n",
    "print (f'{linhas_duplicadas} linhas duplicadas')"
   ]
  },
  {
   "cell_type": "code",
   "execution_count": 942,
   "id": "59b39405",
   "metadata": {},
   "outputs": [
    {
     "data": {
      "image/png": "[encoded data removed]",
      "text/plain": [
       "<Figure size 800x500 with 2 Axes>"
      ]
     },
     "metadata": {},
     "output_type": "display_data"
    }
   ],
   "source": [
    "#correlação entre as variáveis numéricas\n",
    "fig, ax = plt.subplots(figsize = (8,5))\n",
    "sns.heatmap(base_heart.corr(), annot = True, cmap = 'RdPu')\n",
    "plt.show()"
   ]
  },
  {
   "cell_type": "markdown",
   "id": "9aec8c8e",
   "metadata": {},
   "source": [
    "Com base nas informações que foram levantadas, é possível dizer que a base não possui campos com valores nulos e nem linhas duplicadas.\n",
    "Também não existe forte correlação entre duas variáveis (caso existisse, poderia causar um viés na hora de criar o modelo).\n",
    "As médias e medianas das features numéricas, no geral, estão relativamente próximas, o que indica que os dados estão distribuídos de forma próxima da normalidade.\n",
    "\n",
    "Agora, será necessário visualizar cada feature de forma separada para identificar a necessidade de realizar algum tratamento e também para já tentarmos levantar algumas hipóteses sobre a relação das doenças cardíacas com as características apresentadas"
   ]
  },
  {
   "cell_type": "markdown",
   "id": "394c7e15",
   "metadata": {},
   "source": [
    "# Análise exploratória e tratamentos"
   ]
  },
  {
   "cell_type": "markdown",
   "id": "a011de04",
   "metadata": {},
   "source": [
    "### Definição de funções"
   ]
  },
  {
   "cell_type": "code",
   "execution_count": 943,
   "id": "70cbaab7",
   "metadata": {},
   "outputs": [],
   "source": [
    "#função para gerar o boxplot\n",
    "def boxplot(coluna):\n",
    "    fig, ax = plt.subplots(figsize = (10,4))\n",
    "    sns.boxplot(x = base_heart[coluna], color='#73FA9E')\n",
    "    plt.show()\n",
    "\n",
    "#histograma\n",
    "def histograma(coluna):\n",
    "    fig, ax = plt.subplots(figsize = (12,4))\n",
    "    sns.histplot(data = base_heart, x = coluna, hue = 'HeartDisease', palette=['#AD403E','#73FA9E'])\n",
    "    plt.show()"
   ]
  },
  {
   "cell_type": "markdown",
   "id": "830819ca",
   "metadata": {},
   "source": [
    "## Features numéricas"
   ]
  },
  {
   "cell_type": "markdown",
   "id": "df2b419e",
   "metadata": {},
   "source": [
    "### Age              "
   ]
  },
  {
   "cell_type": "code",
   "execution_count": 944,
   "id": "ad02f733",
   "metadata": {},
   "outputs": [
    {
     "data": {
      "image/png": "[encoded data removed]",
      "text/plain": [
       "<Figure size 1200x400 with 1 Axes>"
      ]
     },
     "metadata": {},
     "output_type": "display_data"
    }
   ],
   "source": [
    "#histograma\n",
    "\n",
    "histograma('Age')"
   ]
  },
  {
   "cell_type": "code",
   "execution_count": 945,
   "id": "c8db1836",
   "metadata": {},
   "outputs": [
    {
     "data": {
      "image/png": "[encoded data removed]",
      "text/plain": [
       "<Figure size 1000x400 with 1 Axes>"
      ]
     },
     "metadata": {},
     "output_type": "display_data"
    }
   ],
   "source": [
    "#boxplot\n",
    "\n",
    "boxplot('Age')"
   ]
  },
  {
   "cell_type": "markdown",
   "id": "30396cb5",
   "metadata": {},
   "source": [
    "### RestingBP"
   ]
  },
  {
   "cell_type": "code",
   "execution_count": 946,
   "id": "abdf9c77",
   "metadata": {},
   "outputs": [
    {
     "data": {
      "image/png": "[encoded data removed]",
      "text/plain": [
       "<Figure size 1200x400 with 1 Axes>"
      ]
     },
     "metadata": {},
     "output_type": "display_data"
    }
   ],
   "source": [
    "#histograma\n",
    "\n",
    "histograma('RestingBP')"
   ]
  },
  {
   "cell_type": "code",
   "execution_count": 947,
   "id": "1d4b3dfc",
   "metadata": {},
   "outputs": [
    {
     "data": {
      "image/png": "[encoded data removed]",
      "text/plain": [
       "<Figure size 1000x400 with 1 Axes>"
      ]
     },
     "metadata": {},
     "output_type": "display_data"
    }
   ],
   "source": [
    "#boxplot\n",
    "\n",
    "boxplot('RestingBP')"
   ]
  },
  {
   "cell_type": "markdown",
   "id": "7e990d36",
   "metadata": {},
   "source": [
    "Olhando o boxplot, observa-se que algum paciente foi registrado com o valor zero para sua pressão sanguínea. Esse dado precisará de tratamento.\n",
    "\n",
    "Vou optar por substituí-lo pela média dessa feature."
   ]
  },
  {
   "cell_type": "code",
   "execution_count": 948,
   "id": "0c2ab0db",
   "metadata": {},
   "outputs": [
    {
     "data": {
      "text/html": [
       "<div>\n",
       "<style scoped>\n",
       "    .dataframe tbody tr th:only-of-type {\n",
       "        vertical-align: middle;\n",
       "    }\n",
       "\n",
       "    .dataframe tbody tr th {\n",
       "        vertical-align: top;\n",
       "    }\n",
       "\n",
       "    .dataframe thead th {\n",
       "        text-align: right;\n",
       "    }\n",
       "</style>\n",
       "<table border=\"1\" class=\"dataframe\">\n",
       "  <thead>\n",
       "    <tr style=\"text-align: right;\">\n",
       "      <th></th>\n",
       "      <th>Age</th>\n",
       "      <th>Sex</th>\n",
       "      <th>ChestPainType</th>\n",
       "      <th>RestingBP</th>\n",
       "      <th>Cholesterol</th>\n",
       "      <th>FastingBS</th>\n",
       "      <th>RestingECG</th>\n",
       "      <th>MaxHR</th>\n",
       "      <th>ExerciseAngina</th>\n",
       "      <th>Oldpeak</th>\n",
       "      <th>ST_Slope</th>\n",
       "      <th>HeartDisease</th>\n",
       "    </tr>\n",
       "  </thead>\n",
       "  <tbody>\n",
       "    <tr>\n",
       "      <th>449</th>\n",
       "      <td>55</td>\n",
       "      <td>M</td>\n",
       "      <td>NAP</td>\n",
       "      <td>0</td>\n",
       "      <td>0</td>\n",
       "      <td>0</td>\n",
       "      <td>Normal</td>\n",
       "      <td>155</td>\n",
       "      <td>N</td>\n",
       "      <td>1.5</td>\n",
       "      <td>Flat</td>\n",
       "      <td>1</td>\n",
       "    </tr>\n",
       "  </tbody>\n",
       "</table>\n",
       "</div>"
      ],
      "text/plain": [
       "     Age Sex ChestPainType  RestingBP  Cholesterol  FastingBS RestingECG  \\\n",
       "449   55   M           NAP          0            0          0     Normal   \n",
       "\n",
       "     MaxHR ExerciseAngina  Oldpeak ST_Slope  HeartDisease  \n",
       "449    155              N      1.5     Flat             1  "
      ]
     },
     "execution_count": 948,
     "metadata": {},
     "output_type": "execute_result"
    }
   ],
   "source": [
    "#vendo a linha que possui esse valor igual a zero\n",
    "base_heart[base_heart.RestingBP == 0]"
   ]
  },
  {
   "cell_type": "code",
   "execution_count": 949,
   "id": "e7043ae8",
   "metadata": {},
   "outputs": [],
   "source": [
    "#substituindo o zero pela média\n",
    "base_heart.loc[base_heart.RestingBP==0, 'RestingBP'] = descricao.RestingBP[1]"
   ]
  },
  {
   "cell_type": "markdown",
   "id": "a6d645eb",
   "metadata": {},
   "source": [
    "### Cholesterol"
   ]
  },
  {
   "cell_type": "code",
   "execution_count": 950,
   "id": "91b829f9",
   "metadata": {},
   "outputs": [
    {
     "data": {
      "image/png": "[encoded data removed]",
      "text/plain": [
       "<Figure size 1200x400 with 1 Axes>"
      ]
     },
     "metadata": {},
     "output_type": "display_data"
    }
   ],
   "source": [
    "histograma('Cholesterol')"
   ]
  },
  {
   "cell_type": "code",
   "execution_count": 951,
   "id": "8e694baf",
   "metadata": {
    "scrolled": true
   },
   "outputs": [
    {
     "data": {
      "image/png": "[encoded data removed]",
      "text/plain": [
       "<Figure size 1000x400 with 1 Axes>"
      ]
     },
     "metadata": {},
     "output_type": "display_data"
    }
   ],
   "source": [
    "boxplot('Cholesterol')"
   ]
  },
  {
   "cell_type": "markdown",
   "id": "ec01c66f",
   "metadata": {},
   "source": [
    "Foi possível observar que a feature 'Cholesterol' também possui linhas com valores zerados. Sendo assim, optei por realizar a mesma substituição pela média dessa coluna."
   ]
  },
  {
   "cell_type": "code",
   "execution_count": 957,
   "id": "6e5090e8",
   "metadata": {},
   "outputs": [
    {
     "data": {
      "text/html": [
       "<div>\n",
       "<style scoped>\n",
       "    .dataframe tbody tr th:only-of-type {\n",
       "        vertical-align: middle;\n",
       "    }\n",
       "\n",
       "    .dataframe tbody tr th {\n",
       "        vertical-align: top;\n",
       "    }\n",
       "\n",
       "    .dataframe thead th {\n",
       "        text-align: right;\n",
       "    }\n",
       "</style>\n",
       "<table border=\"1\" class=\"dataframe\">\n",
       "  <thead>\n",
       "    <tr style=\"text-align: right;\">\n",
       "      <th></th>\n",
       "      <th>Age</th>\n",
       "      <th>Sex</th>\n",
       "      <th>ChestPainType</th>\n",
       "      <th>RestingBP</th>\n",
       "      <th>Cholesterol</th>\n",
       "      <th>FastingBS</th>\n",
       "      <th>RestingECG</th>\n",
       "      <th>MaxHR</th>\n",
       "      <th>ExerciseAngina</th>\n",
       "      <th>Oldpeak</th>\n",
       "      <th>ST_Slope</th>\n",
       "      <th>HeartDisease</th>\n",
       "    </tr>\n",
       "  </thead>\n",
       "  <tbody>\n",
       "    <tr>\n",
       "      <th>293</th>\n",
       "      <td>65</td>\n",
       "      <td>M</td>\n",
       "      <td>ASY</td>\n",
       "      <td>115.0</td>\n",
       "      <td>0</td>\n",
       "      <td>0</td>\n",
       "      <td>Normal</td>\n",
       "      <td>93</td>\n",
       "      <td>Y</td>\n",
       "      <td>0.0</td>\n",
       "      <td>Flat</td>\n",
       "      <td>1</td>\n",
       "    </tr>\n",
       "    <tr>\n",
       "      <th>294</th>\n",
       "      <td>32</td>\n",
       "      <td>M</td>\n",
       "      <td>TA</td>\n",
       "      <td>95.0</td>\n",
       "      <td>0</td>\n",
       "      <td>1</td>\n",
       "      <td>Normal</td>\n",
       "      <td>127</td>\n",
       "      <td>N</td>\n",
       "      <td>0.7</td>\n",
       "      <td>Up</td>\n",
       "      <td>1</td>\n",
       "    </tr>\n",
       "    <tr>\n",
       "      <th>295</th>\n",
       "      <td>61</td>\n",
       "      <td>M</td>\n",
       "      <td>ASY</td>\n",
       "      <td>105.0</td>\n",
       "      <td>0</td>\n",
       "      <td>1</td>\n",
       "      <td>Normal</td>\n",
       "      <td>110</td>\n",
       "      <td>Y</td>\n",
       "      <td>1.5</td>\n",
       "      <td>Up</td>\n",
       "      <td>1</td>\n",
       "    </tr>\n",
       "    <tr>\n",
       "      <th>296</th>\n",
       "      <td>50</td>\n",
       "      <td>M</td>\n",
       "      <td>ASY</td>\n",
       "      <td>145.0</td>\n",
       "      <td>0</td>\n",
       "      <td>1</td>\n",
       "      <td>Normal</td>\n",
       "      <td>139</td>\n",
       "      <td>Y</td>\n",
       "      <td>0.7</td>\n",
       "      <td>Flat</td>\n",
       "      <td>1</td>\n",
       "    </tr>\n",
       "    <tr>\n",
       "      <th>297</th>\n",
       "      <td>57</td>\n",
       "      <td>M</td>\n",
       "      <td>ASY</td>\n",
       "      <td>110.0</td>\n",
       "      <td>0</td>\n",
       "      <td>1</td>\n",
       "      <td>ST</td>\n",
       "      <td>131</td>\n",
       "      <td>Y</td>\n",
       "      <td>1.4</td>\n",
       "      <td>Up</td>\n",
       "      <td>1</td>\n",
       "    </tr>\n",
       "    <tr>\n",
       "      <th>...</th>\n",
       "      <td>...</td>\n",
       "      <td>...</td>\n",
       "      <td>...</td>\n",
       "      <td>...</td>\n",
       "      <td>...</td>\n",
       "      <td>...</td>\n",
       "      <td>...</td>\n",
       "      <td>...</td>\n",
       "      <td>...</td>\n",
       "      <td>...</td>\n",
       "      <td>...</td>\n",
       "      <td>...</td>\n",
       "    </tr>\n",
       "    <tr>\n",
       "      <th>514</th>\n",
       "      <td>43</td>\n",
       "      <td>M</td>\n",
       "      <td>ASY</td>\n",
       "      <td>122.0</td>\n",
       "      <td>0</td>\n",
       "      <td>0</td>\n",
       "      <td>Normal</td>\n",
       "      <td>120</td>\n",
       "      <td>N</td>\n",
       "      <td>0.5</td>\n",
       "      <td>Up</td>\n",
       "      <td>1</td>\n",
       "    </tr>\n",
       "    <tr>\n",
       "      <th>515</th>\n",
       "      <td>63</td>\n",
       "      <td>M</td>\n",
       "      <td>NAP</td>\n",
       "      <td>130.0</td>\n",
       "      <td>0</td>\n",
       "      <td>1</td>\n",
       "      <td>ST</td>\n",
       "      <td>160</td>\n",
       "      <td>N</td>\n",
       "      <td>3.0</td>\n",
       "      <td>Flat</td>\n",
       "      <td>0</td>\n",
       "    </tr>\n",
       "    <tr>\n",
       "      <th>518</th>\n",
       "      <td>48</td>\n",
       "      <td>M</td>\n",
       "      <td>NAP</td>\n",
       "      <td>102.0</td>\n",
       "      <td>0</td>\n",
       "      <td>1</td>\n",
       "      <td>ST</td>\n",
       "      <td>110</td>\n",
       "      <td>Y</td>\n",
       "      <td>1.0</td>\n",
       "      <td>Down</td>\n",
       "      <td>1</td>\n",
       "    </tr>\n",
       "    <tr>\n",
       "      <th>535</th>\n",
       "      <td>56</td>\n",
       "      <td>M</td>\n",
       "      <td>ASY</td>\n",
       "      <td>130.0</td>\n",
       "      <td>0</td>\n",
       "      <td>0</td>\n",
       "      <td>LVH</td>\n",
       "      <td>122</td>\n",
       "      <td>Y</td>\n",
       "      <td>1.0</td>\n",
       "      <td>Flat</td>\n",
       "      <td>1</td>\n",
       "    </tr>\n",
       "    <tr>\n",
       "      <th>536</th>\n",
       "      <td>62</td>\n",
       "      <td>M</td>\n",
       "      <td>NAP</td>\n",
       "      <td>133.0</td>\n",
       "      <td>0</td>\n",
       "      <td>1</td>\n",
       "      <td>ST</td>\n",
       "      <td>119</td>\n",
       "      <td>Y</td>\n",
       "      <td>1.2</td>\n",
       "      <td>Flat</td>\n",
       "      <td>1</td>\n",
       "    </tr>\n",
       "  </tbody>\n",
       "</table>\n",
       "<p>172 rows × 12 columns</p>\n",
       "</div>"
      ],
      "text/plain": [
       "     Age Sex ChestPainType  RestingBP  Cholesterol  FastingBS RestingECG  \\\n",
       "293   65   M           ASY      115.0            0          0     Normal   \n",
       "294   32   M            TA       95.0            0          1     Normal   \n",
       "295   61   M           ASY      105.0            0          1     Normal   \n",
       "296   50   M           ASY      145.0            0          1     Normal   \n",
       "297   57   M           ASY      110.0            0          1         ST   \n",
       "..   ...  ..           ...        ...          ...        ...        ...   \n",
       "514   43   M           ASY      122.0            0          0     Normal   \n",
       "515   63   M           NAP      130.0            0          1         ST   \n",
       "518   48   M           NAP      102.0            0          1         ST   \n",
       "535   56   M           ASY      130.0            0          0        LVH   \n",
       "536   62   M           NAP      133.0            0          1         ST   \n",
       "\n",
       "     MaxHR ExerciseAngina  Oldpeak ST_Slope  HeartDisease  \n",
       "293     93              Y      0.0     Flat             1  \n",
       "294    127              N      0.7       Up             1  \n",
       "295    110              Y      1.5       Up             1  \n",
       "296    139              Y      0.7     Flat             1  \n",
       "297    131              Y      1.4       Up             1  \n",
       "..     ...            ...      ...      ...           ...  \n",
       "514    120              N      0.5       Up             1  \n",
       "515    160              N      3.0     Flat             0  \n",
       "518    110              Y      1.0     Down             1  \n",
       "535    122              Y      1.0     Flat             1  \n",
       "536    119              Y      1.2     Flat             1  \n",
       "\n",
       "[172 rows x 12 columns]"
      ]
     },
     "execution_count": 957,
     "metadata": {},
     "output_type": "execute_result"
    }
   ],
   "source": [
    "#vendo algumas linhas que possuem o colesterol zerado\n",
    "\n",
    "base_heart[base_heart.Cholesterol == 0]"
   ]
  },
  {
   "cell_type": "code",
   "execution_count": 893,
   "id": "fe716a22",
   "metadata": {},
   "outputs": [],
   "source": [
    "#substituindo pela média\n",
    "base_heart.loc[base_heart.Cholesterol == 0, 'Cholesterol'] = descricao.Cholesterol[1]"
   ]
  },
  {
   "cell_type": "markdown",
   "id": "94238dc7",
   "metadata": {},
   "source": [
    "### FastingBS"
   ]
  },
  {
   "cell_type": "code",
   "execution_count": 894,
   "id": "fd3be924",
   "metadata": {},
   "outputs": [
    {
     "data": {
      "image/png": "[encoded data removed]",
      "text/plain": [
       "<Figure size 1200x400 with 1 Axes>"
      ]
     },
     "metadata": {},
     "output_type": "display_data"
    }
   ],
   "source": [
    "histograma('FastingBS')"
   ]
  },
  {
   "cell_type": "code",
   "execution_count": 895,
   "id": "4d52b2c8",
   "metadata": {
    "scrolled": true
   },
   "outputs": [
    {
     "data": {
      "image/png": "[encoded data removed]",
      "text/plain": [
       "<Figure size 1000x400 with 1 Axes>"
      ]
     },
     "metadata": {},
     "output_type": "display_data"
    }
   ],
   "source": [
    "boxplot('FastingBS')"
   ]
  },
  {
   "cell_type": "markdown",
   "id": "d1ba554b",
   "metadata": {},
   "source": [
    "O boxplot ficou dessa forma pois tanto o primeiro quanto o terceiro quartil dessa feature são preenchidas pelo número zero. Sendo assim, seu limite inferior e superior são 0 (o que faz com que aquela caixa padrão não seja gerada)"
   ]
  },
  {
   "cell_type": "markdown",
   "id": "2a475740",
   "metadata": {},
   "source": [
    "### MaxHR"
   ]
  },
  {
   "cell_type": "code",
   "execution_count": 896,
   "id": "891e617d",
   "metadata": {},
   "outputs": [
    {
     "data": {
      "image/png": "[encoded data removed]",
      "text/plain": [
       "<Figure size 1200x400 with 1 Axes>"
      ]
     },
     "metadata": {},
     "output_type": "display_data"
    }
   ],
   "source": [
    "histograma('MaxHR')"
   ]
  },
  {
   "cell_type": "code",
   "execution_count": 897,
   "id": "77210a20",
   "metadata": {
    "scrolled": true
   },
   "outputs": [
    {
     "data": {
      "image/png": "[encoded data removed]",
      "text/plain": [
       "<Figure size 1000x400 with 1 Axes>"
      ]
     },
     "metadata": {},
     "output_type": "display_data"
    }
   ],
   "source": [
    "boxplot('MaxHR')"
   ]
  },
  {
   "cell_type": "markdown",
   "id": "8fd34511",
   "metadata": {},
   "source": [
    "### Oldpeak"
   ]
  },
  {
   "cell_type": "code",
   "execution_count": 898,
   "id": "4c3404e8",
   "metadata": {},
   "outputs": [
    {
     "data": {
      "image/png": "[encoded data removed]",
      "text/plain": [
       "<Figure size 1200x400 with 1 Axes>"
      ]
     },
     "metadata": {},
     "output_type": "display_data"
    }
   ],
   "source": [
    "histograma('Oldpeak')"
   ]
  },
  {
   "cell_type": "code",
   "execution_count": 899,
   "id": "294cd221",
   "metadata": {
    "scrolled": true
   },
   "outputs": [
    {
     "data": {
      "image/png": "[encoded data removed]",
      "text/plain": [
       "<Figure size 1000x400 with 1 Axes>"
      ]
     },
     "metadata": {},
     "output_type": "display_data"
    }
   ],
   "source": [
    "boxplot('Oldpeak')"
   ]
  },
  {
   "cell_type": "markdown",
   "id": "2e4a176f",
   "metadata": {},
   "source": [
    "## Features textuais"
   ]
  },
  {
   "cell_type": "markdown",
   "id": "05af22b4",
   "metadata": {},
   "source": [
    "### Sex"
   ]
  },
  {
   "cell_type": "code",
   "execution_count": 900,
   "id": "ddae83c8",
   "metadata": {},
   "outputs": [
    {
     "data": {
      "image/png": "[encoded data removed]",
      "text/plain": [
       "<Figure size 1200x400 with 1 Axes>"
      ]
     },
     "metadata": {},
     "output_type": "display_data"
    }
   ],
   "source": [
    "histograma('Sex')"
   ]
  },
  {
   "cell_type": "markdown",
   "id": "d8dd2e52",
   "metadata": {},
   "source": [
    "### ChestPainType"
   ]
  },
  {
   "cell_type": "code",
   "execution_count": 901,
   "id": "0d34c0dc",
   "metadata": {
    "scrolled": true
   },
   "outputs": [
    {
     "data": {
      "image/png": "[encoded data removed]",
      "text/plain": [
       "<Figure size 1200x400 with 1 Axes>"
      ]
     },
     "metadata": {},
     "output_type": "display_data"
    }
   ],
   "source": [
    "histograma('ChestPainType')"
   ]
  },
  {
   "cell_type": "markdown",
   "id": "8a86f871",
   "metadata": {},
   "source": [
    "### RestingECG"
   ]
  },
  {
   "cell_type": "code",
   "execution_count": 902,
   "id": "d91a4f78",
   "metadata": {
    "scrolled": true
   },
   "outputs": [
    {
     "data": {
      "image/png": "[encoded data removed]",
      "text/plain": [
       "<Figure size 1200x400 with 1 Axes>"
      ]
     },
     "metadata": {},
     "output_type": "display_data"
    }
   ],
   "source": [
    "histograma('RestingECG')"
   ]
  },
  {
   "cell_type": "markdown",
   "id": "f4d164bd",
   "metadata": {},
   "source": [
    "### ExerciseAngina"
   ]
  },
  {
   "cell_type": "code",
   "execution_count": 903,
   "id": "f5a21e74",
   "metadata": {},
   "outputs": [
    {
     "data": {
      "image/png": "[encoded data removed]",
      "text/plain": [
       "<Figure size 1200x400 with 1 Axes>"
      ]
     },
     "metadata": {},
     "output_type": "display_data"
    }
   ],
   "source": [
    "histograma('ExerciseAngina')"
   ]
  },
  {
   "cell_type": "markdown",
   "id": "6ecfafd7",
   "metadata": {},
   "source": [
    "### ST_Slope"
   ]
  },
  {
   "cell_type": "code",
   "execution_count": 904,
   "id": "54b1517b",
   "metadata": {
    "scrolled": false
   },
   "outputs": [
    {
     "data": {
      "image/png": "[encoded data removed]",
      "text/plain": [
       "<Figure size 1200x400 with 1 Axes>"
      ]
     },
     "metadata": {},
     "output_type": "display_data"
    }
   ],
   "source": [
    "histograma('ST_Slope')"
   ]
  },
  {
   "cell_type": "markdown",
   "id": "16fbf2a2",
   "metadata": {},
   "source": [
    "Para os dados apresentados, podemos levantar algumas conclusões:\n",
    "\n",
    "- A maior proporção de pacientes analisados que possuem doença cardíaca foi encontrada em pessoas com mais de 55 anos\n",
    "\n",
    "- Pessoas com alto nível de açúcar no sangue apresentam maior chance de possuírem doença cardíaca quando comparadas as pessoas que não possuem esse alto nível\n",
    "\n",
    "- Os homens apresentaram maior probabilidade de ter doença do que as mulheres\n",
    "\n",
    "- Pessoas que sentem dor angínica no peito ao fazer exercícios possuem maior tendência a terem doenças cardíacas quando comparadas as pessoas que não sentem dor\n",
    "\n",
    "Essas são alguns insights que podem ser tirados apenas olhando os gráficos que foram apresentados anteriormente.\n",
    "\n"
   ]
  },
  {
   "cell_type": "markdown",
   "id": "1f94cbc2",
   "metadata": {},
   "source": [
    "Nesse momento, os dados passarão pelo processo de encoding e suas escalas serão tratadas para buscar conseguir melhores resultados com a utilização dos modelos de machine learning"
   ]
  },
  {
   "cell_type": "markdown",
   "id": "5410d46d",
   "metadata": {},
   "source": [
    "## Encode"
   ]
  },
  {
   "cell_type": "code",
   "execution_count": 905,
   "id": "d32babfe",
   "metadata": {},
   "outputs": [],
   "source": [
    "#Sex e ExerciseAngina\n",
    "\n",
    "base_heart.loc[base_heart.Sex == 'M', 'Sex'] = 1\n",
    "base_heart.loc[base_heart.Sex == 'F', 'Sex'] = 0\n",
    "\n",
    "base_heart.loc[base_heart.ExerciseAngina == 'Y', 'ExerciseAngina'] = 1\n",
    "base_heart.loc[base_heart.ExerciseAngina == 'N', 'ExerciseAngina'] = 0"
   ]
  },
  {
   "cell_type": "code",
   "execution_count": 906,
   "id": "55328b8c",
   "metadata": {},
   "outputs": [],
   "source": [
    "#ST_Slope, RestingECG e ChestPainType\n",
    "\n",
    "base_heart = pd.get_dummies(base_heart, columns = ['ST_Slope', 'RestingECG', 'ChestPainType'])"
   ]
  },
  {
   "cell_type": "code",
   "execution_count": 907,
   "id": "ce9c16bd",
   "metadata": {
    "scrolled": false
   },
   "outputs": [
    {
     "data": {
      "text/html": [
       "<div>\n",
       "<style scoped>\n",
       "    .dataframe tbody tr th:only-of-type {\n",
       "        vertical-align: middle;\n",
       "    }\n",
       "\n",
       "    .dataframe tbody tr th {\n",
       "        vertical-align: top;\n",
       "    }\n",
       "\n",
       "    .dataframe thead th {\n",
       "        text-align: right;\n",
       "    }\n",
       "</style>\n",
       "<table border=\"1\" class=\"dataframe\">\n",
       "  <thead>\n",
       "    <tr style=\"text-align: right;\">\n",
       "      <th></th>\n",
       "      <th>Age</th>\n",
       "      <th>Sex</th>\n",
       "      <th>RestingBP</th>\n",
       "      <th>Cholesterol</th>\n",
       "      <th>FastingBS</th>\n",
       "      <th>MaxHR</th>\n",
       "      <th>ExerciseAngina</th>\n",
       "      <th>Oldpeak</th>\n",
       "      <th>HeartDisease</th>\n",
       "      <th>ST_Slope_Down</th>\n",
       "      <th>ST_Slope_Flat</th>\n",
       "      <th>ST_Slope_Up</th>\n",
       "      <th>RestingECG_LVH</th>\n",
       "      <th>RestingECG_Normal</th>\n",
       "      <th>RestingECG_ST</th>\n",
       "      <th>ChestPainType_ASY</th>\n",
       "      <th>ChestPainType_ATA</th>\n",
       "      <th>ChestPainType_NAP</th>\n",
       "      <th>ChestPainType_TA</th>\n",
       "    </tr>\n",
       "  </thead>\n",
       "  <tbody>\n",
       "    <tr>\n",
       "      <th>0</th>\n",
       "      <td>40</td>\n",
       "      <td>1</td>\n",
       "      <td>140.0</td>\n",
       "      <td>289.0</td>\n",
       "      <td>0</td>\n",
       "      <td>172</td>\n",
       "      <td>0</td>\n",
       "      <td>0.0</td>\n",
       "      <td>0</td>\n",
       "      <td>0</td>\n",
       "      <td>0</td>\n",
       "      <td>1</td>\n",
       "      <td>0</td>\n",
       "      <td>1</td>\n",
       "      <td>0</td>\n",
       "      <td>0</td>\n",
       "      <td>1</td>\n",
       "      <td>0</td>\n",
       "      <td>0</td>\n",
       "    </tr>\n",
       "    <tr>\n",
       "      <th>1</th>\n",
       "      <td>49</td>\n",
       "      <td>0</td>\n",
       "      <td>160.0</td>\n",
       "      <td>180.0</td>\n",
       "      <td>0</td>\n",
       "      <td>156</td>\n",
       "      <td>0</td>\n",
       "      <td>1.0</td>\n",
       "      <td>1</td>\n",
       "      <td>0</td>\n",
       "      <td>1</td>\n",
       "      <td>0</td>\n",
       "      <td>0</td>\n",
       "      <td>1</td>\n",
       "      <td>0</td>\n",
       "      <td>0</td>\n",
       "      <td>0</td>\n",
       "      <td>1</td>\n",
       "      <td>0</td>\n",
       "    </tr>\n",
       "    <tr>\n",
       "      <th>2</th>\n",
       "      <td>37</td>\n",
       "      <td>1</td>\n",
       "      <td>130.0</td>\n",
       "      <td>283.0</td>\n",
       "      <td>0</td>\n",
       "      <td>98</td>\n",
       "      <td>0</td>\n",
       "      <td>0.0</td>\n",
       "      <td>0</td>\n",
       "      <td>0</td>\n",
       "      <td>0</td>\n",
       "      <td>1</td>\n",
       "      <td>0</td>\n",
       "      <td>0</td>\n",
       "      <td>1</td>\n",
       "      <td>0</td>\n",
       "      <td>1</td>\n",
       "      <td>0</td>\n",
       "      <td>0</td>\n",
       "    </tr>\n",
       "    <tr>\n",
       "      <th>3</th>\n",
       "      <td>48</td>\n",
       "      <td>0</td>\n",
       "      <td>138.0</td>\n",
       "      <td>214.0</td>\n",
       "      <td>0</td>\n",
       "      <td>108</td>\n",
       "      <td>1</td>\n",
       "      <td>1.5</td>\n",
       "      <td>1</td>\n",
       "      <td>0</td>\n",
       "      <td>1</td>\n",
       "      <td>0</td>\n",
       "      <td>0</td>\n",
       "      <td>1</td>\n",
       "      <td>0</td>\n",
       "      <td>1</td>\n",
       "      <td>0</td>\n",
       "      <td>0</td>\n",
       "      <td>0</td>\n",
       "    </tr>\n",
       "    <tr>\n",
       "      <th>4</th>\n",
       "      <td>54</td>\n",
       "      <td>1</td>\n",
       "      <td>150.0</td>\n",
       "      <td>195.0</td>\n",
       "      <td>0</td>\n",
       "      <td>122</td>\n",
       "      <td>0</td>\n",
       "      <td>0.0</td>\n",
       "      <td>0</td>\n",
       "      <td>0</td>\n",
       "      <td>0</td>\n",
       "      <td>1</td>\n",
       "      <td>0</td>\n",
       "      <td>1</td>\n",
       "      <td>0</td>\n",
       "      <td>0</td>\n",
       "      <td>0</td>\n",
       "      <td>1</td>\n",
       "      <td>0</td>\n",
       "    </tr>\n",
       "  </tbody>\n",
       "</table>\n",
       "</div>"
      ],
      "text/plain": [
       "   Age Sex  RestingBP  Cholesterol  FastingBS  MaxHR ExerciseAngina  Oldpeak  \\\n",
       "0   40   1      140.0        289.0          0    172              0      0.0   \n",
       "1   49   0      160.0        180.0          0    156              0      1.0   \n",
       "2   37   1      130.0        283.0          0     98              0      0.0   \n",
       "3   48   0      138.0        214.0          0    108              1      1.5   \n",
       "4   54   1      150.0        195.0          0    122              0      0.0   \n",
       "\n",
       "   HeartDisease  ST_Slope_Down  ST_Slope_Flat  ST_Slope_Up  RestingECG_LVH  \\\n",
       "0             0              0              0            1               0   \n",
       "1             1              0              1            0               0   \n",
       "2             0              0              0            1               0   \n",
       "3             1              0              1            0               0   \n",
       "4             0              0              0            1               0   \n",
       "\n",
       "   RestingECG_Normal  RestingECG_ST  ChestPainType_ASY  ChestPainType_ATA  \\\n",
       "0                  1              0                  0                  1   \n",
       "1                  1              0                  0                  0   \n",
       "2                  0              1                  0                  1   \n",
       "3                  1              0                  1                  0   \n",
       "4                  1              0                  0                  0   \n",
       "\n",
       "   ChestPainType_NAP  ChestPainType_TA  \n",
       "0                  0                 0  \n",
       "1                  1                 0  \n",
       "2                  0                 0  \n",
       "3                  0                 0  \n",
       "4                  1                 0  "
      ]
     },
     "execution_count": 907,
     "metadata": {},
     "output_type": "execute_result"
    }
   ],
   "source": [
    "#Visualizando a base\n",
    "base_heart.head()"
   ]
  },
  {
   "cell_type": "code",
   "execution_count": 908,
   "id": "de1559ac",
   "metadata": {},
   "outputs": [],
   "source": [
    "#melhorando as escalas\n",
    "base_heart['Age'] = base_heart['Age']/base_heart.Age.max()\n",
    "base_heart.RestingBP = base_heart.RestingBP/base_heart.RestingBP.max()\n",
    "base_heart.Cholesterol = base_heart.Cholesterol/base_heart.Cholesterol.max()\n",
    "base_heart.MaxHR = base_heart.MaxHR/base_heart.MaxHR.max()\n",
    "base_heart.Oldpeak = base_heart.Oldpeak/base_heart.Oldpeak.max()"
   ]
  },
  {
   "cell_type": "markdown",
   "id": "34969640",
   "metadata": {},
   "source": [
    "## Machine Learning"
   ]
  },
  {
   "cell_type": "markdown",
   "id": "9fb3eae4",
   "metadata": {},
   "source": [
    "### Separar a base em treino e teste"
   ]
  },
  {
   "cell_type": "code",
   "execution_count": 909,
   "id": "751bb7e8",
   "metadata": {},
   "outputs": [],
   "source": [
    "X = base_heart.drop('HeartDisease', axis = 1)\n",
    "y = base_heart['HeartDisease']\n",
    "\n",
    "X_train, X_test, y_train, y_test = train_test_split(X,y,test_size=0.3, random_state=42, stratify=y)"
   ]
  },
  {
   "cell_type": "markdown",
   "id": "d60dae8b",
   "metadata": {},
   "source": [
    "### Modelos"
   ]
  },
  {
   "cell_type": "markdown",
   "id": "4178aba7",
   "metadata": {},
   "source": [
    "Optou-se por testar os seguintes modelos de classificação:\n",
    "- ExtraTrees\n",
    "- RandomForest\n",
    "- LogisticRegression\n",
    "- SVC"
   ]
  },
  {
   "cell_type": "code",
   "execution_count": 910,
   "id": "69d99432",
   "metadata": {},
   "outputs": [],
   "source": [
    "#criando os modelos\n",
    "modelos = {'ExtraTrees': ExtraTreesClassifier(random_state=42), 'RandomForest': RandomForestClassifier(random_state=42),\n",
    "          'LogisticRegression': LogisticRegression(random_state=42), 'SVC': LinearSVC(random_state=42)}"
   ]
  },
  {
   "cell_type": "code",
   "execution_count": 911,
   "id": "27ffce94",
   "metadata": {},
   "outputs": [
    {
     "name": "stdout",
     "output_type": "stream",
     "text": [
      "ExtraTrees:\n",
      "Acurácia: 0.8840579710144928\n",
      "Recall: 0.9019607843137255\n",
      "Matriz Confusão:\n",
      " [[106  17]\n",
      " [ 15 138]]\n",
      "\n",
      "RandomForest:\n",
      "Acurácia: 0.894927536231884\n",
      "Recall: 0.9281045751633987\n",
      "Matriz Confusão:\n",
      " [[105  18]\n",
      " [ 11 142]]\n",
      "\n",
      "LogisticRegression:\n",
      "Acurácia: 0.8876811594202898\n",
      "Recall: 0.9084967320261438\n",
      "Matriz Confusão:\n",
      " [[106  17]\n",
      " [ 14 139]]\n",
      "\n",
      "SVC:\n",
      "Acurácia: 0.8804347826086957\n",
      "Recall: 0.9019607843137255\n",
      "Matriz Confusão:\n",
      " [[105  18]\n",
      " [ 15 138]]\n",
      "\n"
     ]
    }
   ],
   "source": [
    "#realizando o treinamento, predição e avaliação\n",
    "for modelo in modelos:\n",
    "    modelos[modelo].fit(X_train, y_train)\n",
    "    pred = modelos[modelo].predict(X_test)\n",
    "    print (f'{modelo}:\\nAcurácia: {accuracy_score(y_test, pred)}\\nRecall: {recall_score(y_test,pred)}\\nMatriz Confusão:\\n {confusion_matrix(y_test, pred)}\\n')"
   ]
  },
  {
   "cell_type": "markdown",
   "id": "73d4457b",
   "metadata": {},
   "source": [
    "Todos os métodos testados apresentaram resultados satisfatórios, com o melhor método alcançando acurácia de 89,5% e recall de 92,8%.\n",
    "\n",
    "Porém, para tentar melhorar os resultados, será testada a realização de OverSampling e UnderSampling, visto que os dados são ligeiramente desbalanceados (possuem mais resultados positivos do que negativos)."
   ]
  },
  {
   "cell_type": "code",
   "execution_count": 961,
   "id": "0b6aeb88",
   "metadata": {},
   "outputs": [
    {
     "data": {
      "text/plain": [
       "1    355\n",
       "0    287\n",
       "Name: HeartDisease, dtype: int64"
      ]
     },
     "execution_count": 961,
     "metadata": {},
     "output_type": "execute_result"
    }
   ],
   "source": [
    "y_train.value_counts()"
   ]
  },
  {
   "cell_type": "markdown",
   "id": "58f6373e",
   "metadata": {},
   "source": [
    "## OverSampling"
   ]
  },
  {
   "cell_type": "markdown",
   "id": "eb071d76",
   "metadata": {},
   "source": [
    "### RandomOverSampler"
   ]
  },
  {
   "cell_type": "code",
   "execution_count": 912,
   "id": "03df4bd4",
   "metadata": {},
   "outputs": [],
   "source": [
    "#Fazendo o resample\n",
    "ROS = RandomOverSampler(random_state=42, shrinkage=0.5)\n",
    "X_ros, y_ros = ROS.fit_resample(X_train, y_train)"
   ]
  },
  {
   "cell_type": "code",
   "execution_count": 913,
   "id": "49f1ae63",
   "metadata": {},
   "outputs": [
    {
     "name": "stdout",
     "output_type": "stream",
     "text": [
      "ExtraTrees:\n",
      "Acurácia: 0.8876811594202898\n",
      "Recall: 0.9019607843137255\n",
      "Matriz Confusão:\n",
      " [[107  16]\n",
      " [ 15 138]]\n",
      "\n",
      "RandomForest:\n",
      "Acurácia: 0.9021739130434783\n",
      "Recall: 0.9215686274509803\n",
      "Matriz Confusão:\n",
      " [[108  15]\n",
      " [ 12 141]]\n",
      "\n",
      "LogisticRegression:\n",
      "Acurácia: 0.8876811594202898\n",
      "Recall: 0.8954248366013072\n",
      "Matriz Confusão:\n",
      " [[108  15]\n",
      " [ 16 137]]\n",
      "\n",
      "SVC:\n",
      "Acurácia: 0.8876811594202898\n",
      "Recall: 0.9019607843137255\n",
      "Matriz Confusão:\n",
      " [[107  16]\n",
      " [ 15 138]]\n",
      "\n"
     ]
    }
   ],
   "source": [
    "#Fazendo o fit, predict e avaliando\n",
    "for modelo in modelos:\n",
    "    modelos[modelo].fit(X_ros, y_ros)\n",
    "    pred = modelos[modelo].predict(X_test)\n",
    "    print (f'{modelo}:\\nAcurácia: {accuracy_score(y_test, pred)}\\nRecall: {recall_score(y_test,pred)}\\nMatriz Confusão:\\n {confusion_matrix(y_test, pred)}\\n')"
   ]
  },
  {
   "cell_type": "markdown",
   "id": "c2d45046",
   "metadata": {},
   "source": [
    "### SMOTE"
   ]
  },
  {
   "cell_type": "code",
   "execution_count": 914,
   "id": "2cd3858f",
   "metadata": {},
   "outputs": [],
   "source": [
    "#resamble\n",
    "SMT = SMOTE(random_state=42)\n",
    "X_smt, y_smt = SMT.fit_resample(X_train, y_train)"
   ]
  },
  {
   "cell_type": "code",
   "execution_count": 915,
   "id": "3d42558e",
   "metadata": {},
   "outputs": [
    {
     "name": "stdout",
     "output_type": "stream",
     "text": [
      "ExtraTrees:\n",
      "Acurácia: 0.8804347826086957\n",
      "Recall: 0.9019607843137255\n",
      "Matriz Confusão:\n",
      " [[105  18]\n",
      " [ 15 138]]\n",
      "\n",
      "RandomForest:\n",
      "Acurácia: 0.8876811594202898\n",
      "Recall: 0.9019607843137255\n",
      "Matriz Confusão:\n",
      " [[107  16]\n",
      " [ 15 138]]\n",
      "\n",
      "LogisticRegression:\n",
      "Acurácia: 0.8623188405797102\n",
      "Recall: 0.8627450980392157\n",
      "Matriz Confusão:\n",
      " [[106  17]\n",
      " [ 21 132]]\n",
      "\n",
      "SVC:\n",
      "Acurácia: 0.8695652173913043\n",
      "Recall: 0.8758169934640523\n",
      "Matriz Confusão:\n",
      " [[106  17]\n",
      " [ 19 134]]\n",
      "\n"
     ]
    }
   ],
   "source": [
    "#Fazendo o fit, predict e avaliando\n",
    "for modelo in modelos:\n",
    "    modelos[modelo].fit(X_smt, y_smt)\n",
    "    pred = modelos[modelo].predict(X_test)\n",
    "    print (f'{modelo}:\\nAcurácia: {accuracy_score(y_test, pred)}\\nRecall: {recall_score(y_test,pred)}\\nMatriz Confusão:\\n {confusion_matrix(y_test, pred)}\\n')"
   ]
  },
  {
   "cell_type": "markdown",
   "id": "13e38e62",
   "metadata": {},
   "source": [
    "### ADASYN"
   ]
  },
  {
   "cell_type": "code",
   "execution_count": 916,
   "id": "12f77608",
   "metadata": {},
   "outputs": [],
   "source": [
    "#resamble\n",
    "ADS = ADASYN(random_state=42)\n",
    "X_ads, y_ads = ADS.fit_resample(X_train, y_train)"
   ]
  },
  {
   "cell_type": "code",
   "execution_count": 917,
   "id": "80a03896",
   "metadata": {
    "scrolled": true
   },
   "outputs": [
    {
     "name": "stdout",
     "output_type": "stream",
     "text": [
      "ExtraTrees:\n",
      "Acurácia: 0.8623188405797102\n",
      "Recall: 0.8627450980392157\n",
      "Matriz Confusão:\n",
      " [[106  17]\n",
      " [ 21 132]]\n",
      "\n",
      "RandomForest:\n",
      "Acurácia: 0.8985507246376812\n",
      "Recall: 0.9084967320261438\n",
      "Matriz Confusão:\n",
      " [[109  14]\n",
      " [ 14 139]]\n",
      "\n",
      "LogisticRegression:\n",
      "Acurácia: 0.8586956521739131\n",
      "Recall: 0.8366013071895425\n",
      "Matriz Confusão:\n",
      " [[109  14]\n",
      " [ 25 128]]\n",
      "\n",
      "SVC:\n",
      "Acurácia: 0.8623188405797102\n",
      "Recall: 0.8562091503267973\n",
      "Matriz Confusão:\n",
      " [[107  16]\n",
      " [ 22 131]]\n",
      "\n"
     ]
    }
   ],
   "source": [
    "#Fazendo o fit, predict e avaliando\n",
    "for modelo in modelos:\n",
    "    modelos[modelo].fit(X_ads, y_ads)\n",
    "    pred = modelos[modelo].predict(X_test)\n",
    "    print (f'{modelo}:\\nAcurácia: {accuracy_score(y_test, pred)}\\nRecall: {recall_score(y_test,pred)}\\nMatriz Confusão:\\n {confusion_matrix(y_test, pred)}\\n')"
   ]
  },
  {
   "cell_type": "markdown",
   "id": "6a7b6886",
   "metadata": {},
   "source": [
    "## UnderSampling"
   ]
  },
  {
   "cell_type": "markdown",
   "id": "aa8ccad8",
   "metadata": {},
   "source": [
    "### RandomUnderSampler"
   ]
  },
  {
   "cell_type": "code",
   "execution_count": 918,
   "id": "fbb4c9da",
   "metadata": {},
   "outputs": [],
   "source": [
    "RUS = RandomUnderSampler(random_state=42)\n",
    "X_rus, y_rus = RUS.fit_resample(X_train, y_train)"
   ]
  },
  {
   "cell_type": "code",
   "execution_count": 919,
   "id": "cc36d88a",
   "metadata": {},
   "outputs": [
    {
     "name": "stdout",
     "output_type": "stream",
     "text": [
      "ExtraTrees:\n",
      "Acurácia: 0.8695652173913043\n",
      "Recall: 0.869281045751634\n",
      "Matriz Confusão:\n",
      " [[107  16]\n",
      " [ 20 133]]\n",
      "\n",
      "RandomForest:\n",
      "Acurácia: 0.8695652173913043\n",
      "Recall: 0.8758169934640523\n",
      "Matriz Confusão:\n",
      " [[106  17]\n",
      " [ 19 134]]\n",
      "\n",
      "LogisticRegression:\n",
      "Acurácia: 0.8659420289855072\n",
      "Recall: 0.8627450980392157\n",
      "Matriz Confusão:\n",
      " [[107  16]\n",
      " [ 21 132]]\n",
      "\n",
      "SVC:\n",
      "Acurácia: 0.8731884057971014\n",
      "Recall: 0.8758169934640523\n",
      "Matriz Confusão:\n",
      " [[107  16]\n",
      " [ 19 134]]\n",
      "\n"
     ]
    }
   ],
   "source": [
    "#Fazendo o fit, predict e avaliando\n",
    "for modelo in modelos:\n",
    "    modelos[modelo].fit(X_rus, y_rus)\n",
    "    pred = modelos[modelo].predict(X_test)\n",
    "    print (f'{modelo}:\\nAcurácia: {accuracy_score(y_test, pred)}\\nRecall: {recall_score(y_test,pred)}\\nMatriz Confusão:\\n {confusion_matrix(y_test, pred)}\\n')"
   ]
  },
  {
   "cell_type": "markdown",
   "id": "e3fe0754",
   "metadata": {},
   "source": [
    "### ClusterCentroids"
   ]
  },
  {
   "cell_type": "code",
   "execution_count": 920,
   "id": "e021fcd7",
   "metadata": {},
   "outputs": [],
   "source": [
    "CCD = ClusterCentroids(random_state=42)\n",
    "X_ccd, y_ccd = CCD.fit_resample(X_train, y_train)"
   ]
  },
  {
   "cell_type": "code",
   "execution_count": 921,
   "id": "fd2782fd",
   "metadata": {},
   "outputs": [
    {
     "name": "stdout",
     "output_type": "stream",
     "text": [
      "ExtraTrees:\n",
      "Acurácia: 0.8840579710144928\n",
      "Recall: 0.9019607843137255\n",
      "Matriz Confusão:\n",
      " [[106  17]\n",
      " [ 15 138]]\n",
      "\n",
      "RandomForest:\n",
      "Acurácia: 0.8876811594202898\n",
      "Recall: 0.8954248366013072\n",
      "Matriz Confusão:\n",
      " [[108  15]\n",
      " [ 16 137]]\n",
      "\n",
      "LogisticRegression:\n",
      "Acurácia: 0.8804347826086957\n",
      "Recall: 0.8888888888888888\n",
      "Matriz Confusão:\n",
      " [[107  16]\n",
      " [ 17 136]]\n",
      "\n",
      "SVC:\n",
      "Acurácia: 0.8768115942028986\n",
      "Recall: 0.8888888888888888\n",
      "Matriz Confusão:\n",
      " [[106  17]\n",
      " [ 17 136]]\n",
      "\n"
     ]
    }
   ],
   "source": [
    "#Fazendo o fit, predict e avaliando\n",
    "for modelo in modelos:\n",
    "    modelos[modelo].fit(X_ccd, y_ccd)\n",
    "    pred = modelos[modelo].predict(X_test)\n",
    "    print (f'{modelo}:\\nAcurácia: {accuracy_score(y_test, pred)}\\nRecall: {recall_score(y_test,pred)}\\nMatriz Confusão:\\n {confusion_matrix(y_test, pred)}\\n')"
   ]
  },
  {
   "cell_type": "markdown",
   "id": "37c8befa",
   "metadata": {},
   "source": [
    "### NearMiss"
   ]
  },
  {
   "cell_type": "code",
   "execution_count": 922,
   "id": "8f038190",
   "metadata": {},
   "outputs": [],
   "source": [
    "NMS = NearMiss()\n",
    "X_nms, y_nms = NMS.fit_resample(X_train, y_train)"
   ]
  },
  {
   "cell_type": "code",
   "execution_count": 923,
   "id": "b377422c",
   "metadata": {
    "scrolled": true
   },
   "outputs": [
    {
     "name": "stdout",
     "output_type": "stream",
     "text": [
      "ExtraTrees:\n",
      "Acurácia: 0.8514492753623188\n",
      "Recall: 0.8366013071895425\n",
      "Matriz Confusão:\n",
      " [[107  16]\n",
      " [ 25 128]]\n",
      "\n",
      "RandomForest:\n",
      "Acurácia: 0.8768115942028986\n",
      "Recall: 0.8954248366013072\n",
      "Matriz Confusão:\n",
      " [[105  18]\n",
      " [ 16 137]]\n",
      "\n",
      "LogisticRegression:\n",
      "Acurácia: 0.8695652173913043\n",
      "Recall: 0.8627450980392157\n",
      "Matriz Confusão:\n",
      " [[108  15]\n",
      " [ 21 132]]\n",
      "\n",
      "SVC:\n",
      "Acurácia: 0.8623188405797102\n",
      "Recall: 0.8562091503267973\n",
      "Matriz Confusão:\n",
      " [[107  16]\n",
      " [ 22 131]]\n",
      "\n"
     ]
    }
   ],
   "source": [
    "#Fazendo o fit, predict e avaliando\n",
    "for modelo in modelos:\n",
    "    modelos[modelo].fit(X_nms, y_nms)\n",
    "    pred = modelos[modelo].predict(X_test)\n",
    "    print (f'{modelo}:\\nAcurácia: {accuracy_score(y_test, pred)}\\nRecall: {recall_score(y_test,pred)}\\nMatriz Confusão:\\n {confusion_matrix(y_test, pred)}\\n')"
   ]
  },
  {
   "cell_type": "markdown",
   "id": "14c86171",
   "metadata": {},
   "source": [
    "Nenhum dos métodos testados de over e undersampling forneceram melhorias para o recall dos modelos de machine learning que estão sendo testados. Sendo assim, continuarei utilizando os dados de treino sem realizar nenhum resample.\n",
    "\n"
   ]
  },
  {
   "cell_type": "markdown",
   "id": "8335d557",
   "metadata": {},
   "source": [
    "## Melhorando os modelos\n",
    "\n",
    "Dos modelos testados, o RandomForest e o LogisticRegression apresentaram resultados melhores para o recall e a acurácia. Com isso, tentarei melhorar esses 2 modelos para alcançar o maior recall possível sem comprometer muito a acurácia, visto que minha prioridade é conseguir detectar o maior número de pessoas que possuem risco de apresentar uma doença cardíaca."
   ]
  },
  {
   "cell_type": "markdown",
   "id": "0949ebe1",
   "metadata": {},
   "source": [
    "### RandomForest"
   ]
  },
  {
   "cell_type": "code",
   "execution_count": 924,
   "id": "493b0f0f",
   "metadata": {},
   "outputs": [],
   "source": [
    "#definindo os parâmetros a serem testados\n",
    "parametros = {\n",
    "    'n_estimators': [50, 80, 100, 130, 150],\n",
    "    'max_features': ['sqrt','log2','None'],\n",
    "}\n"
   ]
  },
  {
   "cell_type": "code",
   "execution_count": 925,
   "id": "5ec98959",
   "metadata": {},
   "outputs": [],
   "source": [
    "#criando o classificador\n",
    "RF = RandomForestClassifier(random_state=42)"
   ]
  },
  {
   "cell_type": "code",
   "execution_count": 926,
   "id": "1e3e18c5",
   "metadata": {},
   "outputs": [],
   "source": [
    "#criando um classificador que irá testar todos esses parâmetros\n",
    "RF_Grid = GridSearchCV(RF, parametros, scoring='recall')"
   ]
  },
  {
   "cell_type": "code",
   "execution_count": 927,
   "id": "2f2f4fb1",
   "metadata": {},
   "outputs": [],
   "source": [
    "# Fazendo o fit dos nossos dados\n",
    "RF_Grid = RF_Grid.fit(X_train, y_train)"
   ]
  },
  {
   "cell_type": "code",
   "execution_count": 928,
   "id": "da8234d4",
   "metadata": {},
   "outputs": [
    {
     "data": {
      "text/plain": [
       "{'max_features': 'sqrt', 'n_estimators': 130}"
      ]
     },
     "execution_count": 928,
     "metadata": {},
     "output_type": "execute_result"
    }
   ],
   "source": [
    "# Visualizando os melhores parâmetros definidos pelo GridSearchCV \n",
    "RF_Grid.best_params_"
   ]
  },
  {
   "cell_type": "code",
   "execution_count": 929,
   "id": "dbcdfd17",
   "metadata": {},
   "outputs": [
    {
     "name": "stdout",
     "output_type": "stream",
     "text": [
      "Acurácia: 0.894927536231884\n",
      "Recall: 0.9281045751633987\n",
      "Matriz Confusão:\n",
      " [[105  18]\n",
      " [ 11 142]]\n",
      "\n"
     ]
    }
   ],
   "source": [
    "# Fazendo o predict e avaliando o modelo gerado\n",
    "\n",
    "pred = RF_Grid.predict(X_test)\n",
    "print (f'Acurácia: {accuracy_score(y_test, pred)}\\nRecall: {recall_score(y_test,pred)}\\nMatriz Confusão:\\n {confusion_matrix(y_test, pred)}\\n')"
   ]
  },
  {
   "cell_type": "markdown",
   "id": "8e513d1b",
   "metadata": {},
   "source": [
    "### LogisticRegression"
   ]
  },
  {
   "cell_type": "code",
   "execution_count": 930,
   "id": "3cab86c6",
   "metadata": {},
   "outputs": [],
   "source": [
    "#definindo os parâmetros a serem testados\n",
    "parametros = {\n",
    "    'penalty': ['l1','l2','elasticnet', 'none'],\n",
    "    'C': [0.007,0.01, 0.1, 1, 10, 100],\n",
    "}\n"
   ]
  },
  {
   "cell_type": "code",
   "execution_count": 931,
   "id": "ca8a2f29",
   "metadata": {},
   "outputs": [],
   "source": [
    "#criando o classificador\n",
    "LR = LogisticRegression(random_state=42)"
   ]
  },
  {
   "cell_type": "code",
   "execution_count": 932,
   "id": "81af037b",
   "metadata": {},
   "outputs": [],
   "source": [
    "#criando um classificador que irá testar todos esses parâmetros\n",
    "LR_Grid = GridSearchCV(LR, parametros, scoring='recall')"
   ]
  },
  {
   "cell_type": "code",
   "execution_count": 933,
   "id": "ba879426",
   "metadata": {},
   "outputs": [],
   "source": [
    "# Fazendo o fit dos nossos dados\n",
    "LR_Grid = LR_Grid.fit(X_train, y_train)"
   ]
  },
  {
   "cell_type": "code",
   "execution_count": 934,
   "id": "703fee26",
   "metadata": {},
   "outputs": [
    {
     "data": {
      "text/plain": [
       "{'C': 0.007, 'penalty': 'l2'}"
      ]
     },
     "execution_count": 934,
     "metadata": {},
     "output_type": "execute_result"
    }
   ],
   "source": [
    "# Visualizando os melhores parâmetros definidos pelo GridSearchCV \n",
    "LR_Grid.best_params_"
   ]
  },
  {
   "cell_type": "code",
   "execution_count": 935,
   "id": "80f1eb23",
   "metadata": {},
   "outputs": [
    {
     "name": "stdout",
     "output_type": "stream",
     "text": [
      "Acurácia: 0.8840579710144928\n",
      "Recall: 0.9411764705882353\n",
      "Matriz Confusão:\n",
      " [[100  23]\n",
      " [  9 144]]\n",
      "\n"
     ]
    }
   ],
   "source": [
    "# Fazendo o predict e avaliando o modelo gerado\n",
    "\n",
    "pred = LR_Grid.predict(X_test)\n",
    "print (f'Acurácia: {accuracy_score(y_test, pred)}\\nRecall: {recall_score(y_test,pred)}\\nMatriz Confusão:\\n {confusion_matrix(y_test, pred)}\\n')"
   ]
  },
  {
   "cell_type": "markdown",
   "id": "1eb07b53",
   "metadata": {},
   "source": [
    "Foi obtido êxito em melhorar o modelo de LogisticRegression, aumentando seu recall para 94,12% (que antes era de 90,95%).\n",
    "Para isso, perdeu-se um pouco de sua acurácia, que antes era de 88,77% e agora passou para 88,41%.\n",
    "Porém, essa pequena perda da acurácia é válida visto que o recall (que é a medida alvo do projeto) foi aumentado consideravelmente.\n"
   ]
  },
  {
   "attachments": {
    "image.png": {
     "image/png": "[encoded data removed]"
    }
   },
   "cell_type": "markdown",
   "id": "fc192784",
   "metadata": {},
   "source": [
    "Sendo assim, o modelo de LogisticRegression, utilizando o parâmetro C igual a 0,007 e a penalty igual a l2 é o modelo escolhido para a predição.\n",
    "\n",
    "LR = LogisticRegression(random_state=42, 'C' = 0.007, 'penalty' = 'l2')\n",
    "\n",
    "**Recall:** 94,12%<br>\n",
    "**Acurácia:** 88,41%<br>\n",
    "**Matriz de confusão:**<br> \n",
    "![image.png](attachment:image.png)"
   ]
  }
 ],
 "metadata": {
  "kernelspec": {
   "display_name": "Python 3 (ipykernel)",
   "language": "python",
   "name": "python3"
  },
  "language_info": {
   "codemirror_mode": {
    "name": "ipython",
    "version": 3
   },
   "file_extension": ".py",
   "mimetype": "text/x-python",
   "name": "python",
   "nbconvert_exporter": "python",
   "pygments_lexer": "ipython3",
   "version": "3.9.13"
  }
 },
 "nbformat": 4,
 "nbformat_minor": 5
}
